{
 "cells": [
  {
   "cell_type": "code",
   "execution_count": 1,
   "metadata": {},
   "outputs": [],
   "source": [
    "import pandas as pd\n",
    "import numpy as np"
   ]
  },
  {
   "cell_type": "code",
   "execution_count": 2,
   "metadata": {},
   "outputs": [],
   "source": [
    "def levenshtein(string1, string2):\n",
    "    len_x = len(string1) + 1\n",
    "    len_y = len(string2) + 1\n",
    "    matrix = np.zeros ((len_x, len_y))\n",
    "    for x in range(len_x):\n",
    "        matrix [x, 0] = x\n",
    "    for y in range(len_y):\n",
    "        matrix [0, y] = y\n",
    "\n",
    "    for x in range(1, len_x):\n",
    "        for y in range(1, len_y):\n",
    "            if string1[x-1] == string2[y-1]:\n",
    "                matrix [x,y] = min(\n",
    "                    matrix[x-1, y] + 1,\n",
    "                    matrix[x-1, y-1],\n",
    "                    matrix[x, y-1] + 1\n",
    "                )\n",
    "            else:\n",
    "                matrix [x,y] = min(\n",
    "                    matrix[x-1,y] + 1,\n",
    "                    matrix[x-1,y-1] + 1,\n",
    "                    matrix[x,y-1] + 1\n",
    "                )\n",
    "    return (matrix[len_x - 1, len_y - 1])"
   ]
  },
  {
   "cell_type": "code",
   "execution_count": 3,
   "metadata": {},
   "outputs": [
    {
     "data": {
      "text/html": [
       "<div>\n",
       "<style scoped>\n",
       "    .dataframe tbody tr th:only-of-type {\n",
       "        vertical-align: middle;\n",
       "    }\n",
       "\n",
       "    .dataframe tbody tr th {\n",
       "        vertical-align: top;\n",
       "    }\n",
       "\n",
       "    .dataframe thead th {\n",
       "        text-align: right;\n",
       "    }\n",
       "</style>\n",
       "<table border=\"1\" class=\"dataframe\">\n",
       "  <thead>\n",
       "    <tr style=\"text-align: right;\">\n",
       "      <th></th>\n",
       "      <th>HUNDENAME</th>\n",
       "      <th>GEBURTSJAHR_HUND</th>\n",
       "      <th>GESCHLECHT_HUND</th>\n",
       "    </tr>\n",
       "  </thead>\n",
       "  <tbody>\n",
       "    <tr>\n",
       "      <th>0</th>\n",
       "      <td>Ituma</td>\n",
       "      <td>2011</td>\n",
       "      <td>w</td>\n",
       "    </tr>\n",
       "    <tr>\n",
       "      <th>1</th>\n",
       "      <td>\"Bo\" Bendy of Treegarden</td>\n",
       "      <td>2020</td>\n",
       "      <td>m</td>\n",
       "    </tr>\n",
       "    <tr>\n",
       "      <th>2</th>\n",
       "      <td>\"Bobby\" Lord Sinclair</td>\n",
       "      <td>2009</td>\n",
       "      <td>m</td>\n",
       "    </tr>\n",
       "  </tbody>\n",
       "</table>\n",
       "</div>"
      ],
      "text/plain": [
       "                  HUNDENAME  GEBURTSJAHR_HUND GESCHLECHT_HUND\n",
       "0                     Ituma              2011               w\n",
       "1  \"Bo\" Bendy of Treegarden              2020               m\n",
       "2     \"Bobby\" Lord Sinclair              2009               m"
      ]
     },
     "execution_count": 3,
     "metadata": {},
     "output_type": "execute_result"
    }
   ],
   "source": [
    "target = 'Luca'\n",
    "dataset = pd.read_csv(\"20210103_hundenamen.csv\")\n",
    "dataset.head(3)"
   ]
  },
  {
   "cell_type": "code",
   "execution_count": 4,
   "metadata": {},
   "outputs": [
    {
     "data": {
      "text/html": [
       "<div>\n",
       "<style scoped>\n",
       "    .dataframe tbody tr th:only-of-type {\n",
       "        vertical-align: middle;\n",
       "    }\n",
       "\n",
       "    .dataframe tbody tr th {\n",
       "        vertical-align: top;\n",
       "    }\n",
       "\n",
       "    .dataframe thead th {\n",
       "        text-align: right;\n",
       "    }\n",
       "</style>\n",
       "<table border=\"1\" class=\"dataframe\">\n",
       "  <thead>\n",
       "    <tr style=\"text-align: right;\">\n",
       "      <th></th>\n",
       "      <th>HUNDENAME</th>\n",
       "    </tr>\n",
       "  </thead>\n",
       "  <tbody>\n",
       "    <tr>\n",
       "      <th>0</th>\n",
       "      <td>Ituma</td>\n",
       "    </tr>\n",
       "    <tr>\n",
       "      <th>1</th>\n",
       "      <td>\"Bo\" Bendy of Treegarden</td>\n",
       "    </tr>\n",
       "    <tr>\n",
       "      <th>2</th>\n",
       "      <td>\"Bobby\" Lord Sinclair</td>\n",
       "    </tr>\n",
       "  </tbody>\n",
       "</table>\n",
       "</div>"
      ],
      "text/plain": [
       "                  HUNDENAME\n",
       "0                     Ituma\n",
       "1  \"Bo\" Bendy of Treegarden\n",
       "2     \"Bobby\" Lord Sinclair"
      ]
     },
     "execution_count": 4,
     "metadata": {},
     "output_type": "execute_result"
    }
   ],
   "source": [
    "dog = dataset[['HUNDENAME']]\n",
    "dog.head(3)"
   ]
  },
  {
   "cell_type": "code",
   "execution_count": 5,
   "metadata": {},
   "outputs": [
    {
     "data": {
      "text/html": [
       "<div>\n",
       "<style scoped>\n",
       "    .dataframe tbody tr th:only-of-type {\n",
       "        vertical-align: middle;\n",
       "    }\n",
       "\n",
       "    .dataframe tbody tr th {\n",
       "        vertical-align: top;\n",
       "    }\n",
       "\n",
       "    .dataframe thead th {\n",
       "        text-align: right;\n",
       "    }\n",
       "</style>\n",
       "<table border=\"1\" class=\"dataframe\">\n",
       "  <thead>\n",
       "    <tr style=\"text-align: right;\">\n",
       "      <th></th>\n",
       "      <th>HUNDENAME</th>\n",
       "    </tr>\n",
       "  </thead>\n",
       "  <tbody>\n",
       "    <tr>\n",
       "      <th>0</th>\n",
       "      <td>Ituma</td>\n",
       "    </tr>\n",
       "    <tr>\n",
       "      <th>1</th>\n",
       "      <td>\"Bo\" Bendy of Treegarden</td>\n",
       "    </tr>\n",
       "    <tr>\n",
       "      <th>2</th>\n",
       "      <td>\"Bobby\" Lord Sinclair</td>\n",
       "    </tr>\n",
       "  </tbody>\n",
       "</table>\n",
       "</div>"
      ],
      "text/plain": [
       "                  HUNDENAME\n",
       "0                     Ituma\n",
       "1  \"Bo\" Bendy of Treegarden\n",
       "2     \"Bobby\" Lord Sinclair"
      ]
     },
     "execution_count": 5,
     "metadata": {},
     "output_type": "execute_result"
    }
   ],
   "source": [
    "dog = dog.loc[dog.HUNDENAME != 'unbekannt']\n",
    "dog.head(3)"
   ]
  },
  {
   "cell_type": "code",
   "execution_count": 6,
   "metadata": {},
   "outputs": [
    {
     "data": {
      "text/html": [
       "<div>\n",
       "<style scoped>\n",
       "    .dataframe tbody tr th:only-of-type {\n",
       "        vertical-align: middle;\n",
       "    }\n",
       "\n",
       "    .dataframe tbody tr th {\n",
       "        vertical-align: top;\n",
       "    }\n",
       "\n",
       "    .dataframe thead th {\n",
       "        text-align: right;\n",
       "    }\n",
       "</style>\n",
       "<table border=\"1\" class=\"dataframe\">\n",
       "  <thead>\n",
       "    <tr style=\"text-align: right;\">\n",
       "      <th></th>\n",
       "      <th>HUNDENAME</th>\n",
       "      <th>distance</th>\n",
       "    </tr>\n",
       "  </thead>\n",
       "  <tbody>\n",
       "    <tr>\n",
       "      <th>1842</th>\n",
       "      <td>Cuca</td>\n",
       "      <td>1.0</td>\n",
       "    </tr>\n",
       "    <tr>\n",
       "      <th>4628</th>\n",
       "      <td>Lua</td>\n",
       "      <td>1.0</td>\n",
       "    </tr>\n",
       "    <tr>\n",
       "      <th>4629</th>\n",
       "      <td>Lua</td>\n",
       "      <td>1.0</td>\n",
       "    </tr>\n",
       "  </tbody>\n",
       "</table>\n",
       "</div>"
      ],
      "text/plain": [
       "     HUNDENAME  distance\n",
       "1842      Cuca       1.0\n",
       "4628       Lua       1.0\n",
       "4629       Lua       1.0"
      ]
     },
     "execution_count": 6,
     "metadata": {},
     "output_type": "execute_result"
    }
   ],
   "source": [
    "dog['distance'] = dog.apply(lambda x: levenshtein(x['HUNDENAME'],  target), axis=1)\n",
    "dog = dog.loc[dog.distance <= 1]\n",
    "dog.head(3)"
   ]
  },
  {
   "cell_type": "code",
   "execution_count": 7,
   "metadata": {},
   "outputs": [
    {
     "data": {
      "text/plain": [
       "142"
      ]
     },
     "execution_count": 7,
     "metadata": {},
     "output_type": "execute_result"
    }
   ],
   "source": [
    "dog.HUNDENAME.size"
   ]
  },
  {
   "cell_type": "code",
   "execution_count": 13,
   "metadata": {},
   "outputs": [],
   "source": [
    "dog.HUNDENAME.to_csv(\"result.csv\", index = False)"
   ]
  },
  {
   "cell_type": "code",
   "execution_count": 21,
   "metadata": {},
   "outputs": [
    {
     "data": {
      "text/plain": [
       "['Cuca',\n",
       " 'Lua',\n",
       " 'Lua',\n",
       " 'Lua',\n",
       " 'Lua',\n",
       " 'Lua',\n",
       " 'Lua',\n",
       " 'Luba',\n",
       " 'Luca',\n",
       " 'Luca',\n",
       " 'Luca',\n",
       " 'Luca',\n",
       " 'Luca',\n",
       " 'Luca',\n",
       " 'Lucas',\n",
       " 'Luce',\n",
       " 'Luce',\n",
       " 'Luce',\n",
       " 'Lucia',\n",
       " 'Lucy',\n",
       " 'Lucy',\n",
       " 'Lucy',\n",
       " 'Lucy',\n",
       " 'Lucy',\n",
       " 'Lucy',\n",
       " 'Lucy',\n",
       " 'Lucy',\n",
       " 'Lucy',\n",
       " 'Lucy',\n",
       " 'Lucy',\n",
       " 'Lucy',\n",
       " 'Lucy',\n",
       " 'Lucy',\n",
       " 'Lucy',\n",
       " 'Lucy',\n",
       " 'Lucy',\n",
       " 'Lucy',\n",
       " 'Lucy',\n",
       " 'Lucy',\n",
       " 'Lucy',\n",
       " 'Lula',\n",
       " 'Lula',\n",
       " 'Luma',\n",
       " 'Luma',\n",
       " 'Luna',\n",
       " 'Luna',\n",
       " 'Luna',\n",
       " 'Luna',\n",
       " 'Luna',\n",
       " 'Luna',\n",
       " 'Luna',\n",
       " 'Luna',\n",
       " 'Luna',\n",
       " 'Luna',\n",
       " 'Luna',\n",
       " 'Luna',\n",
       " 'Luna',\n",
       " 'Luna',\n",
       " 'Luna',\n",
       " 'Luna',\n",
       " 'Luna',\n",
       " 'Luna',\n",
       " 'Luna',\n",
       " 'Luna',\n",
       " 'Luna',\n",
       " 'Luna',\n",
       " 'Luna',\n",
       " 'Luna',\n",
       " 'Luna',\n",
       " 'Luna',\n",
       " 'Luna',\n",
       " 'Luna',\n",
       " 'Luna',\n",
       " 'Luna',\n",
       " 'Luna',\n",
       " 'Luna',\n",
       " 'Luna',\n",
       " 'Luna',\n",
       " 'Luna',\n",
       " 'Luna',\n",
       " 'Luna',\n",
       " 'Luna',\n",
       " 'Luna',\n",
       " 'Luna',\n",
       " 'Luna',\n",
       " 'Luna',\n",
       " 'Luna',\n",
       " 'Luna',\n",
       " 'Luna',\n",
       " 'Luna',\n",
       " 'Luna',\n",
       " 'Luna',\n",
       " 'Luna',\n",
       " 'Luna',\n",
       " 'Luna',\n",
       " 'Luna',\n",
       " 'Luna',\n",
       " 'Luna',\n",
       " 'Luna',\n",
       " 'Luna',\n",
       " 'Luna',\n",
       " 'Luna',\n",
       " 'Luna',\n",
       " 'Luna',\n",
       " 'Luna',\n",
       " 'Luna',\n",
       " 'Luna',\n",
       " 'Luna',\n",
       " 'Luna',\n",
       " 'Luna',\n",
       " 'Luna',\n",
       " 'Luna',\n",
       " 'Luna',\n",
       " 'Luna',\n",
       " 'Luna',\n",
       " 'Luna',\n",
       " 'Luna',\n",
       " 'Luna',\n",
       " 'Luna',\n",
       " 'Luna',\n",
       " 'Luna',\n",
       " 'Luna',\n",
       " 'Luna',\n",
       " 'Luna',\n",
       " 'Luna',\n",
       " 'Luna',\n",
       " 'Luna',\n",
       " 'Luna',\n",
       " 'Luna',\n",
       " 'Luna',\n",
       " 'Luna',\n",
       " 'Luna',\n",
       " 'Luna',\n",
       " 'Luna',\n",
       " 'Luna',\n",
       " 'Luna',\n",
       " 'Lupa',\n",
       " 'Lupa',\n",
       " 'Lupa',\n",
       " 'Lupa',\n",
       " 'Lupa',\n",
       " 'Yuca']"
      ]
     },
     "execution_count": 21,
     "metadata": {},
     "output_type": "execute_result"
    }
   ],
   "source": [
    "dog.HUNDENAME.astype(str).values.flatten().tolist()"
   ]
  },
  {
   "cell_type": "code",
   "execution_count": null,
   "metadata": {},
   "outputs": [],
   "source": []
  }
 ],
 "metadata": {
  "kernelspec": {
   "display_name": "dwh_venv",
   "language": "python",
   "name": "dwh_venv"
  },
  "language_info": {
   "codemirror_mode": {
    "name": "ipython",
    "version": 3
   },
   "file_extension": ".py",
   "mimetype": "text/x-python",
   "name": "python",
   "nbconvert_exporter": "python",
   "pygments_lexer": "ipython3",
   "version": "3.8.5"
  }
 },
 "nbformat": 4,
 "nbformat_minor": 4
}
